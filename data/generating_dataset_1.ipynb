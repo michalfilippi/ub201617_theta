{
 "metadata": {
  "name": "",
  "signature": "sha256:8b97888bbd08409ee979a4669afd34cf46d21328055008bbf166bedfcc59f5dd"
 },
 "nbformat": 3,
 "nbformat_minor": 0,
 "worksheets": [
  {
   "cells": [
    {
     "cell_type": "code",
     "collapsed": false,
     "input": [
      "import os\n",
      "import gzip\n",
      "\n",
      "import numpy as np\n",
      "from Bio.SeqIO import parse"
     ],
     "language": "python",
     "metadata": {},
     "outputs": [],
     "prompt_number": 1
    },
    {
     "cell_type": "markdown",
     "metadata": {},
     "source": [
      "# Code bellow is mostly taken from provided start.py script."
     ]
    },
    {
     "cell_type": "code",
     "collapsed": false,
     "input": [
      "data_header = list(np.genfromtxt(os.path.join(\"raw_data\", \"annotation\", \"sacCer3.genes.filtered.txt\"),\n",
      "                                 skip_header=0, dtype=None, max_rows=1))\n",
      "data_annotation = np.genfromtxt(os.path.join(\"raw_data\", \"annotation\", \"sacCer3.genes.filtered.txt\"),\n",
      "                                skip_header=1, dtype=None)\n",
      "genome = dict()\n",
      "dataset = dict()"
     ],
     "language": "python",
     "metadata": {},
     "outputs": [],
     "prompt_number": 2
    },
    {
     "cell_type": "code",
     "collapsed": false,
     "input": [
      "def get_sequence(chrome, strand, start, end):\n",
      "    # Get sequence defined by start and end coordinates\n",
      "    global genome\n",
      "    if not (chrome, strand) in genome:\n",
      "        f_in = os.path.join(\"raw_data\", \"genome\", \"%s.fa.gz\" % chrome)\n",
      "        fasta = parse(gzip.open(f_in, \"rt\"), \"fasta\")\n",
      "        record = next(fasta)\n",
      "        genome[chrome, \"+\"] = str(record.seq)\n",
      "        genome[chrome, \"-\"] = str(record.seq.reverse_complement())\n",
      "    return genome[chrome, strand][start:end]"
     ],
     "language": "python",
     "metadata": {},
     "outputs": [],
     "prompt_number": 3
    },
    {
     "cell_type": "code",
     "collapsed": false,
     "input": [
      "# Process data gene by gene\n",
      "for gene in data_annotation:\n",
      "    gene_id = gene[data_header.index(b\"name\")].decode(\"utf-8\")\n",
      "    chrom = gene[data_header.index(b\"chrom\")].decode(\"utf-8\")\n",
      "    strand = gene[data_header.index(b\"strand\")].decode(\"utf-8\")\n",
      "    exonStarts = gene[data_header.index(b\"exonStarts\")][:-1].decode(\"utf-8\")\n",
      "    exonEnds = gene[data_header.index(b\"exonEnds\")][:-1].decode(\"utf-8\")\n",
      "\n",
      "    cdsStart = gene[data_header.index(b\"cdsStart\")]\n",
      "    cdsEnd = gene[data_header.index(b\"cdsEnd\")]\n",
      "\n",
      "    exonStarts = list(map(int, exonStarts.split(\",\")))\n",
      "    exonEnds = list(map(int, exonEnds.split(\",\")))\n",
      "\n",
      "    observation = get_sequence(chrom, strand, cdsStart, cdsEnd)\n",
      "   \n",
      "    path = []\n",
      "    current_exon = 0\n",
      "    init_pos = exonStarts[0]\n",
      "    for i in range(len(observation)):\n",
      "        if i + init_pos < exonStarts[current_exon]:\n",
      "            path.append('i')\n",
      "        elif i + init_pos < exonEnds[current_exon]:\n",
      "            path.append('e')\n",
      "        else:\n",
      "            path.append('i')\n",
      "            current_exon += 1\n",
      "    \n",
      "    dataset[gene_id] = (observation, ''.join(path))"
     ],
     "language": "python",
     "metadata": {},
     "outputs": [],
     "prompt_number": 4
    },
    {
     "cell_type": "code",
     "collapsed": false,
     "input": [
      "len(dataset)"
     ],
     "language": "python",
     "metadata": {},
     "outputs": [
      {
       "metadata": {},
       "output_type": "pyout",
       "prompt_number": 5,
       "text": [
        "329"
       ]
      }
     ],
     "prompt_number": 5
    },
    {
     "cell_type": "markdown",
     "metadata": {},
     "source": [
      "# Print dataset into txt file."
     ]
    },
    {
     "cell_type": "code",
     "collapsed": false,
     "input": [
      "output_file = \"dataset_1.txt\"\n",
      "with open(output_file, 'w') as f_out:\n",
      "    for g_id in dataset.keys():\n",
      "        f_out.write(dataset[g_id][0])\n",
      "        f_out.write('\\n')\n",
      "        f_out.write(dataset[g_id][1])\n",
      "        f_out.write('\\n')\n",
      "    "
     ],
     "language": "python",
     "metadata": {},
     "outputs": [],
     "prompt_number": 6
    }
   ],
   "metadata": {}
  }
 ]
}