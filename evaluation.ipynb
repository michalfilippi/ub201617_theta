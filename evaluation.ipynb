{
 "metadata": {
  "name": "",
  "signature": "sha256:d800c59a18661ed072595ab8191910647d2dc64d937908ffb6de12872d313deb"
 },
 "nbformat": 3,
 "nbformat_minor": 0,
 "worksheets": [
  {
   "cells": [
    {
     "cell_type": "code",
     "collapsed": false,
     "input": [
      "import random\n",
      "import collections\n",
      "import numpy as np\n",
      "import matplotlib.pyplot as plt\n",
      "%matplotlib inline  \n",
      "\n",
      "from data.dataset_1 import read_data\n",
      "from lib.markov_models import HMM"
     ],
     "language": "python",
     "metadata": {},
     "outputs": [],
     "prompt_number": 1
    },
    {
     "cell_type": "markdown",
     "metadata": {},
     "source": [
      "# Data reading"
     ]
    },
    {
     "cell_type": "code",
     "collapsed": false,
     "input": [
      "dataset = read_data()\n",
      "random.shuffle(dataset)\n",
      "print(\"Samples:\", len(dataset))"
     ],
     "language": "python",
     "metadata": {},
     "outputs": [
      {
       "output_type": "stream",
       "stream": "stdout",
       "text": [
        "Samples: 329\n"
       ]
      }
     ],
     "prompt_number": 2
    },
    {
     "cell_type": "markdown",
     "metadata": {},
     "source": [
      "# Evaluation"
     ]
    },
    {
     "cell_type": "markdown",
     "metadata": {},
     "source": [
      "## Majority classifier"
     ]
    },
    {
     "cell_type": "code",
     "collapsed": false,
     "input": [
      "# Perform majority classifier (always predict exon)\n",
      "accuracies = []\n",
      "accuracies_weighted = []\n",
      "normalization_sum = 0\n",
      "for _, path in dataset:\n",
      "    c_pred = path.count('e')\n",
      "    accuracies.append(c_pred / len(path))\n",
      "    accuracies_weighted.append(c_pred)\n",
      "    normalization_sum += len(path)\n",
      "    \n",
      "print(\"Unweighted accuracy:\", np.mean(accuracies) * 100, '[%]')\n",
      "print(\"Weighted accuracy:\", sum(accuracies_weighted) / normalization_sum * 100, '[%]')"
     ],
     "language": "python",
     "metadata": {},
     "outputs": [
      {
       "output_type": "stream",
       "stream": "stdout",
       "text": [
        "Unweighted accuracy: 75.3184130241 [%]\n",
        "Weighted accuracy: 81.04262512788894 [%]\n"
       ]
      }
     ],
     "prompt_number": 3
    },
    {
     "cell_type": "markdown",
     "metadata": {},
     "source": [
      "## Supervised learning"
     ]
    },
    {
     "cell_type": "code",
     "collapsed": false,
     "input": [
      "# init HMM\n",
      "t, e = HMM.init_matrices_randomly('ei', 'ACTG')\n",
      "hmm = HMM(t, e)"
     ],
     "language": "python",
     "metadata": {},
     "outputs": [],
     "prompt_number": 4
    },
    {
     "cell_type": "code",
     "collapsed": false,
     "input": [
      "# Perform n-fold cross validation\n",
      "# Calculate weighted and unweighted accuracy\n",
      "accuracies = []\n",
      "accuracies_weighted = []\n",
      "normalization_sum = 0\n",
      "pred_pairs = []\n",
      "for  k, example in enumerate(dataset):\n",
      "    hmm.supervised_learning(dataset[:k] + dataset[(k + 1):])\n",
      "    acc, pred = hmm.test([example], True)\n",
      "    \n",
      "    pred_pairs += list(zip(pred[0][0], pred[0][1]))\n",
      "    accuracies.append(acc)\n",
      "    accuracies_weighted.append(acc * len(example[0]))\n",
      "    normalization_sum += len(example[0])"
     ],
     "language": "python",
     "metadata": {},
     "outputs": [],
     "prompt_number": 5
    },
    {
     "cell_type": "code",
     "collapsed": false,
     "input": [
      "print(\"Unweighted accuracy:\", np.mean(accuracies) * 100, '[%]')\n",
      "print(\"Weighted accuracy:\", sum(accuracies_weighted) / normalization_sum * 100, '[%]')"
     ],
     "language": "python",
     "metadata": {},
     "outputs": [
      {
       "output_type": "stream",
       "stream": "stdout",
       "text": [
        "Unweighted accuracy: 75.2620292992 [%]\n",
        "Weighted accuracy: 84.86066034731586 [%]\n"
       ]
      }
     ],
     "prompt_number": 6
    },
    {
     "cell_type": "markdown",
     "metadata": {},
     "source": [
      "### Plot of gene length and accuracy dependency"
     ]
    },
    {
     "cell_type": "code",
     "collapsed": false,
     "input": [
      "plt.figure(figsize=(10, 4))\n",
      "plt.title('')\n",
      "plt.xlabel('Length of gene')\n",
      "plt.ylabel('Accuracy')\n",
      "plt.plot([len(s[0]) for s in dataset], accuracies, '.');"
     ],
     "language": "python",
     "metadata": {},
     "outputs": [
      {
       "metadata": {},
       "output_type": "display_data",
       "png": "[encoded data removed]",
       "text": [
        "<matplotlib.figure.Figure at 0x7f45b80e5a58>"
       ]
      }
     ],
     "prompt_number": 7
    },
    {
     "cell_type": "markdown",
     "metadata": {},
     "source": [
      "### Confusion matrix"
     ]
    },
    {
     "cell_type": "code",
     "collapsed": false,
     "input": [
      "c = collections.Counter(pred_pairs)\n",
      "print('\\te\\ti')\n",
      "probs = [c[('e','e')] / (c[('e','e')] + c[('e','i')]),\n",
      "         c[('e','i')] / (c[('e','e')] + c[('e','i')]),\n",
      "         c[('i','e')] / (c[('i','e')] + c[('i','i')]),\n",
      "         c[('i','i')] / (c[('i','e')] + c[('i','i')])]\n",
      "probs = list(map(lambda x: str(round(x*100, 2)) + '%', probs))\n",
      "print('e', probs[0], probs[1], sep='\\t')\n",
      "print('i', probs[2], probs[3], sep='\\t')"
     ],
     "language": "python",
     "metadata": {},
     "outputs": [
      {
       "output_type": "stream",
       "stream": "stdout",
       "text": [
        "\te\ti\n",
        "e\t94.98%\t5.02%\n",
        "i\t58.4%\t41.6%\n"
       ]
      }
     ],
     "prompt_number": 8
    },
    {
     "cell_type": "markdown",
     "metadata": {},
     "source": [
      "## Unsupervised learning"
     ]
    },
    {
     "cell_type": "markdown",
     "metadata": {},
     "source": [
      "### Viterbi learning"
     ]
    },
    {
     "cell_type": "code",
     "collapsed": false,
     "input": [
      "# init HMM\n",
      "t, e = HMM.init_matrices_randomly('ei', 'ACTG')\n",
      "hmm = HMM(t, e)"
     ],
     "language": "python",
     "metadata": {},
     "outputs": [],
     "prompt_number": 3
    },
    {
     "cell_type": "code",
     "collapsed": false,
     "input": [
      "print(\"Unweighted accuracy:\", hmm.test(dataset) * 100, '[%]')\n",
      "print(\"Weighted accuracy:\", hmm.test_weighted(dataset) * 100, '[%]')\n",
      "print()\n",
      "print(hmm)"
     ],
     "language": "python",
     "metadata": {},
     "outputs": [
      {
       "output_type": "stream",
       "stream": "stdout",
       "text": [
        "Unweighted accuracy: 41.60144251634066 [%]\n",
        "Weighted accuracy:"
       ]
      },
      {
       "output_type": "stream",
       "stream": "stdout",
       "text": [
        " 39.78700987200943 [%]\n",
        "\n",
        "-------- init state dist\n",
        "e\t0.5\n",
        "i\t0.5\n",
        "-------- transmission dist\n",
        "\te\ti\t\n",
        "e\t0.493\t0.507\t\n",
        "i\t0.47\t0.53\t\n",
        "-------- emission dist\n",
        "\tA\tC\tG\tT\n",
        "e\t0.314\t0.275\t0.267\t0.144\t\n",
        "i\t0.355\t0.046\t0.235\t0.363\t\n",
        "\n"
       ]
      }
     ],
     "prompt_number": 4
    },
    {
     "cell_type": "code",
     "collapsed": false,
     "input": [
      "hmm.viterbi_learning_batch(dataset, iterations=4)"
     ],
     "language": "python",
     "metadata": {},
     "outputs": [],
     "prompt_number": 10
    },
    {
     "cell_type": "code",
     "collapsed": false,
     "input": [
      "print(\"Unweighted accuracy:\", hmm.test(dataset) * 100, '[%]')\n",
      "print(\"Weighted accuracy:\", hmm.test_weighted(dataset) * 100, '[%]')\n",
      "print()\n",
      "print(hmm)"
     ],
     "language": "python",
     "metadata": {},
     "outputs": [
      {
       "output_type": "stream",
       "stream": "stdout",
       "text": [
        "Accuracy: 64.93234700089975 [%]\n",
        "Weighted accuracy:"
       ]
      },
      {
       "output_type": "stream",
       "stream": "stdout",
       "text": [
        " 67.61699720168848 [%]\n",
        "\n",
        "-------- init state dist\n",
        "e\t0.5\n",
        "i\t0.5\n",
        "-------- transmission dist\n",
        "\te\ti\t\n",
        "e\t0.801\t0.199\t\n",
        "i\t0.696\t0.304\t\n",
        "-------- emission dist\n",
        "\tA\tC\tG\tT\n",
        "e\t0.291\t0.0\t0.223\t0.486\t\n",
        "i\t0.0\t1.0\t0.0\t0.0\t\n",
        "\n"
       ]
      }
     ],
     "prompt_number": 11
    },
    {
     "cell_type": "markdown",
     "metadata": {},
     "source": [
      "# Knowledge mining"
     ]
    },
    {
     "cell_type": "code",
     "collapsed": false,
     "input": [
      "t, e = HMM.init_matrices_randomly('ei', 'ACTG')\n",
      "hmm = HMM(t, e)\n",
      "hmm.supervised_learning(dataset)"
     ],
     "language": "python",
     "metadata": {},
     "outputs": [],
     "prompt_number": 9
    },
    {
     "cell_type": "code",
     "collapsed": false,
     "input": [
      "print(hmm)"
     ],
     "language": "python",
     "metadata": {},
     "outputs": [
      {
       "output_type": "stream",
       "stream": "stdout",
       "text": [
        "-------- init state dist\n",
        "e\t1.0\n",
        "i\t0.0\n",
        "-------- transmission dist\n",
        "\te\ti\t\n",
        "e\t0.999\t0.001\t\n",
        "i\t0.003\t0.997\t\n",
        "-------- emission dist\n",
        "\tA\tC\tG\tT\n",
        "e\t0.33\t0.199\t0.183\t0.288\t\n",
        "i\t0.359\t0.141\t0.16\t0.339\t\n",
        "\n"
       ]
      }
     ],
     "prompt_number": 10
    },
    {
     "cell_type": "code",
     "collapsed": false,
     "input": [],
     "language": "python",
     "metadata": {},
     "outputs": []
    }
   ],
   "metadata": {}
  }
 ]
}