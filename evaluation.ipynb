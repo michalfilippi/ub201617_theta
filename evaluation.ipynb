{
 "metadata": {
  "name": "",
  "signature": "sha256:1c74d56904fd33639cb146af6d9cac2be2217eee43ffd6db415548a38648a749"
 },
 "nbformat": 3,
 "nbformat_minor": 0,
 "worksheets": [
  {
   "cells": [
    {
     "cell_type": "code",
     "collapsed": false,
     "input": [
      "import random\n",
      "import collections\n",
      "import numpy as np\n",
      "\n",
      "from data.dataset_1 import read_data\n",
      "from lib.markov_models import HMM"
     ],
     "language": "python",
     "metadata": {},
     "outputs": [],
     "prompt_number": 1
    },
    {
     "cell_type": "markdown",
     "metadata": {},
     "source": [
      "# Data reading"
     ]
    },
    {
     "cell_type": "code",
     "collapsed": false,
     "input": [
      "dataset = read_data()\n",
      "random.shuffle(dataset)\n",
      "print(\"Samples:\", len(dataset))"
     ],
     "language": "python",
     "metadata": {},
     "outputs": [
      {
       "output_type": "stream",
       "stream": "stdout",
       "text": [
        "Samples: 329\n"
       ]
      }
     ],
     "prompt_number": 2
    },
    {
     "cell_type": "markdown",
     "metadata": {},
     "source": [
      "# Evaluation"
     ]
    },
    {
     "cell_type": "markdown",
     "metadata": {},
     "source": [
      "## Supervied learning"
     ]
    },
    {
     "cell_type": "code",
     "collapsed": false,
     "input": [
      "# init HMM\n",
      "t, e = HMM.init_matrices_randomly('ei', 'ACTG')\n",
      "hmm = HMM(t, e)"
     ],
     "language": "python",
     "metadata": {},
     "outputs": [],
     "prompt_number": 3
    },
    {
     "cell_type": "code",
     "collapsed": false,
     "input": [
      "# Perform unweighted n-fold cross validation\n",
      "accuracies = []\n",
      "for  k, example in enumerate(dataset):\n",
      "    hmm.supervised_learning(dataset[:k] + dataset[(k + 1):])\n",
      "    accuracies.append(hmm.test([example]))"
     ],
     "language": "python",
     "metadata": {},
     "outputs": [],
     "prompt_number": 4
    },
    {
     "cell_type": "code",
     "collapsed": false,
     "input": [
      "print(\"Accuracy:\", np.mean(accuracies) * 100, '[%]')\n",
      "print()\n",
      "print(hmm)"
     ],
     "language": "python",
     "metadata": {},
     "outputs": [
      {
       "output_type": "stream",
       "stream": "stdout",
       "text": [
        "Accuracy: 75.2620292992 [%]\n",
        "\n",
        "-------- init state dist\n",
        "e\t1.0\n",
        "i\t0.0\n",
        "-------- transmission dist\n",
        "\te\ti\t\n",
        "e\t0.999\t0.001\t\n",
        "i\t0.003\t0.997\t\n",
        "-------- emission dist\n",
        "\tA\tC\tG\tT\n",
        "e\t0.33\t0.199\t0.183\t0.288\t\n",
        "i\t0.359\t0.141\t0.161\t0.339\t\n",
        "\n"
       ]
      }
     ],
     "prompt_number": 5
    },
    {
     "cell_type": "code",
     "collapsed": false,
     "input": [
      "# Perform weighted n-fold cross validation\n",
      "accuracies_weighted = []\n",
      "normalization_sum = 0\n",
      "for  k, example in enumerate(dataset):\n",
      "    hmm.supervised_learning(dataset[:k] + dataset[(k + 1):])\n",
      "    accuracies_weighted.append(hmm.test([example]) * len(example[0]))\n",
      "    normalization_sum += len(example[0])"
     ],
     "language": "python",
     "metadata": {},
     "outputs": [],
     "prompt_number": 6
    },
    {
     "cell_type": "code",
     "collapsed": false,
     "input": [
      "print(\"Weighted accuracy:\", sum(accuracies_weighted) / normalization_sum * 100, '[%]')\n",
      "print()\n",
      "print(hmm)"
     ],
     "language": "python",
     "metadata": {},
     "outputs": [
      {
       "output_type": "stream",
       "stream": "stdout",
       "text": [
        "Weighted accuracy: 84.86066034731586 [%]\n",
        "\n",
        "-------- init state dist\n",
        "e\t1.0\n",
        "i\t0.0\n",
        "-------- transmission dist\n",
        "\te\ti\t\n",
        "e\t0.999\t0.001\t\n",
        "i\t0.003\t0.997\t\n",
        "-------- emission dist\n",
        "\tA\tC\tG\tT\n",
        "e\t0.33\t0.199\t0.183\t0.288\t\n",
        "i\t0.359\t0.141\t0.161\t0.339\t\n",
        "\n"
       ]
      }
     ],
     "prompt_number": 7
    },
    {
     "cell_type": "markdown",
     "metadata": {},
     "source": [
      "## Unsupervied learning"
     ]
    },
    {
     "cell_type": "markdown",
     "metadata": {},
     "source": [
      "### Viterby learning"
     ]
    },
    {
     "cell_type": "code",
     "collapsed": false,
     "input": [
      "# init HMM\n",
      "t, e = HMM.init_matrices_randomly('ei', 'ACTG')\n",
      "hmm = HMM(t, e)"
     ],
     "language": "python",
     "metadata": {},
     "outputs": [],
     "prompt_number": 8
    },
    {
     "cell_type": "code",
     "collapsed": false,
     "input": [
      "print(\"Accuracy:\", hmm.test(dataset) * 100, '[%]')\n",
      "print(\"Weighted accuracy:\", hmm.test_weighted(dataset) * 100, '[%]')\n",
      "print()\n",
      "print(hmm)"
     ],
     "language": "python",
     "metadata": {},
     "outputs": [
      {
       "output_type": "stream",
       "stream": "stdout",
       "text": [
        "Accuracy: 61.55577361686424 [%]\n",
        "Weighted accuracy:"
       ]
      },
      {
       "output_type": "stream",
       "stream": "stdout",
       "text": [
        " 62.98978921193314 [%]\n",
        "\n",
        "-------- init state dist\n",
        "e\t0.5\n",
        "i\t0.5\n",
        "-------- transmission dist\n",
        "\te\ti\t\n",
        "e\t0.639\t0.361\t\n",
        "i\t0.439\t0.561\t\n",
        "-------- emission dist\n",
        "\tA\tC\tG\tT\n",
        "e\t0.219\t0.096\t0.216\t0.469\t\n",
        "i\t0.138\t0.299\t0.079\t0.484\t\n",
        "\n"
       ]
      }
     ],
     "prompt_number": 9
    },
    {
     "cell_type": "code",
     "collapsed": false,
     "input": [
      "hmm.viterbi_learning_batch(dataset, iterations=4)"
     ],
     "language": "python",
     "metadata": {},
     "outputs": [],
     "prompt_number": 10
    },
    {
     "cell_type": "code",
     "collapsed": false,
     "input": [
      "print(\"Accuracy:\", hmm.test(dataset) * 100, '[%]')\n",
      "print(\"Weighted accuracy:\", hmm.test_weighted(dataset) * 100, '[%]')\n",
      "print()\n",
      "print(hmm)"
     ],
     "language": "python",
     "metadata": {},
     "outputs": [
      {
       "output_type": "stream",
       "stream": "stdout",
       "text": [
        "Accuracy: 64.93234700089975 [%]\n",
        "Weighted accuracy:"
       ]
      },
      {
       "output_type": "stream",
       "stream": "stdout",
       "text": [
        " 67.61699720168848 [%]\n",
        "\n",
        "-------- init state dist\n",
        "e\t0.5\n",
        "i\t0.5\n",
        "-------- transmission dist\n",
        "\te\ti\t\n",
        "e\t0.801\t0.199\t\n",
        "i\t0.696\t0.304\t\n",
        "-------- emission dist\n",
        "\tA\tC\tG\tT\n",
        "e\t0.291\t0.0\t0.223\t0.486\t\n",
        "i\t0.0\t1.0\t0.0\t0.0\t\n",
        "\n"
       ]
      }
     ],
     "prompt_number": 11
    },
    {
     "cell_type": "markdown",
     "metadata": {},
     "source": [
      "### Baum-Welch learning"
     ]
    },
    {
     "cell_type": "code",
     "collapsed": false,
     "input": [
      "# init HMM\n",
      "t, e = HMM.init_matrices_randomly('ei', 'ACTG')\n",
      "hmm = HMM(t, e)"
     ],
     "language": "python",
     "metadata": {},
     "outputs": [],
     "prompt_number": 12
    },
    {
     "cell_type": "code",
     "collapsed": false,
     "input": [
      "print(\"Accuracy:\", hmm.test(dataset) * 100, '[%]')\n",
      "print(\"Weighted accuracy:\", hmm.test_weighted(dataset) * 100, '[%]')\n",
      "print()\n",
      "print(hmm)"
     ],
     "language": "python",
     "metadata": {},
     "outputs": [
      {
       "output_type": "stream",
       "stream": "stdout",
       "text": [
        "Accuracy: 51.17180555612346 [%]\n",
        "Weighted accuracy:"
       ]
      },
      {
       "output_type": "stream",
       "stream": "stdout",
       "text": [
        " 50.7383680355582 [%]\n",
        "\n",
        "-------- init state dist\n",
        "e\t0.5\n",
        "i\t0.5\n",
        "-------- transmission dist\n",
        "\te\ti\t\n",
        "e\t0.392\t0.608\t\n",
        "i\t0.463\t0.537\t\n",
        "-------- emission dist\n",
        "\tA\tC\tG\tT\n",
        "e\t0.415\t0.175\t0.356\t0.054\t\n",
        "i\t0.224\t0.343\t0.084\t0.348\t\n",
        "\n"
       ]
      }
     ],
     "prompt_number": 13
    },
    {
     "cell_type": "code",
     "collapsed": false,
     "input": [
      "hmm.baum_welch_learning_batch(dataset, iterations=4)"
     ],
     "language": "python",
     "metadata": {},
     "outputs": [],
     "prompt_number": 14
    },
    {
     "cell_type": "code",
     "collapsed": false,
     "input": [
      "print(\"Accuracy:\", hmm.test(dataset) * 100, '[%]')\n",
      "print(\"Weighted accuracy:\", hmm.test_weighted(dataset) * 100, '[%]')\n",
      "print()\n",
      "print(hmm)"
     ],
     "language": "python",
     "metadata": {},
     "outputs": [
      {
       "output_type": "stream",
       "stream": "stdout",
       "text": [
        "Accuracy: 49.805896458838916 [%]\n",
        "Weighted accuracy:"
       ]
      },
      {
       "output_type": "stream",
       "stream": "stdout",
       "text": [
        " 49.85923747704775 [%]\n",
        "\n",
        "-------- init state dist\n",
        "e\t1.0\n",
        "i\t0.0\n",
        "-------- transmission dist\n",
        "\te\ti\t\n",
        "e\t0.651\t0.349\t\n",
        "i\t0.239\t0.761\t\n",
        "-------- emission dist\n",
        "\tA\tC\tG\tT\n",
        "e\t0.388\t0.234\t0.192\t0.185\t\n",
        "i\t0.116\t0.212\t0.161\t0.511\t\n",
        "\n"
       ]
      }
     ],
     "prompt_number": 15
    },
    {
     "cell_type": "markdown",
     "metadata": {},
     "source": [
      "# Other"
     ]
    },
    {
     "cell_type": "code",
     "collapsed": false,
     "input": [
      "def path_stats(paths):\n",
      "    print('Num. of paths:', len(paths))\n",
      "    c = collections.Counter(''.join(paths))\n",
      "    print('Exons:', c['e'], c['e'] / (c['e'] + c['i']), '[%]')\n",
      "    print('Introns:', c['i'], c['i'] / (c['e'] + c['i']), '[%]')\n",
      "    \n",
      "    segments = 0\n",
      "    for p in paths:\n",
      "        segments += 1\n",
      "        for c1, c2 in zip(p[:-1], p[1:]):\n",
      "            if c1 != c2:\n",
      "                segments += 1\n",
      "    print('Avg. segments:', segments / len(paths))"
     ],
     "language": "python",
     "metadata": {},
     "outputs": [],
     "prompt_number": 16
    },
    {
     "cell_type": "markdown",
     "metadata": {},
     "source": [
      "# Knowledge mining"
     ]
    },
    {
     "cell_type": "code",
     "collapsed": false,
     "input": [
      "t, e = HMM.init_matrices_randomly('ei', 'ACTG')\n",
      "hmm = HMM(t, e)\n",
      "hmm.supervised_learning(dataset)"
     ],
     "language": "python",
     "metadata": {},
     "outputs": [],
     "prompt_number": 17
    },
    {
     "cell_type": "code",
     "collapsed": false,
     "input": [
      "print(hmm)"
     ],
     "language": "python",
     "metadata": {},
     "outputs": [
      {
       "output_type": "stream",
       "stream": "stdout",
       "text": [
        "-------- init state dist\n",
        "e\t1.0\n",
        "i\t0.0\n",
        "-------- transmission dist\n",
        "\te\ti\t\n",
        "e\t0.999\t0.001\t\n",
        "i\t0.003\t0.997\t\n",
        "-------- emission dist\n",
        "\tA\tC\tG\tT\n",
        "e\t0.33\t0.199\t0.183\t0.288\t\n",
        "i\t0.359\t0.141\t0.16\t0.339\t\n",
        "\n"
       ]
      }
     ],
     "prompt_number": 18
    },
    {
     "cell_type": "code",
     "collapsed": false,
     "input": [],
     "language": "python",
     "metadata": {},
     "outputs": []
    }
   ],
   "metadata": {}
  }
 ]
}