{
 "metadata": {
  "name": "",
  "signature": "sha256:55039e3f55588a03012311f9e076b4eedc1df54726d089bdfb65fed62a86624b"
 },
 "nbformat": 3,
 "nbformat_minor": 0,
 "worksheets": [
  {
   "cells": [
    {
     "cell_type": "code",
     "collapsed": false,
     "input": [
      "import random\n",
      "import collections\n",
      "import numpy as np\n",
      "\n",
      "from data.dataset_1 import read_data\n",
      "from lib.markov_models import HMM"
     ],
     "language": "python",
     "metadata": {},
     "outputs": [],
     "prompt_number": 1
    },
    {
     "cell_type": "markdown",
     "metadata": {},
     "source": [
      "# Data reading"
     ]
    },
    {
     "cell_type": "code",
     "collapsed": false,
     "input": [
      "dataset = read_data()\n",
      "random.shuffle(dataset)\n",
      "print(\"Samples:\", len(dataset))"
     ],
     "language": "python",
     "metadata": {},
     "outputs": [
      {
       "output_type": "stream",
       "stream": "stdout",
       "text": [
        "Samples: 329\n"
       ]
      }
     ],
     "prompt_number": 2
    },
    {
     "cell_type": "markdown",
     "metadata": {},
     "source": [
      "# Evaluation"
     ]
    },
    {
     "cell_type": "markdown",
     "metadata": {},
     "source": [
      "## Supervied learning"
     ]
    },
    {
     "cell_type": "code",
     "collapsed": false,
     "input": [
      "# init HMM\n",
      "t, e = HMM.init_matrices_randomly('ei', 'ACTG')\n",
      "hmm = HMM(t, e)"
     ],
     "language": "python",
     "metadata": {},
     "outputs": [],
     "prompt_number": 3
    },
    {
     "cell_type": "code",
     "collapsed": false,
     "input": [
      "# Perform unweighted n-fold cross validation\n",
      "accuracies = []\n",
      "for  k, example in enumerate(dataset):\n",
      "    hmm.supervised_learning(dataset[:k] + dataset[(k + 1):])\n",
      "    accuracies.append(hmm.test([example]))\n",
      "print(np.mean(accuracies))"
     ],
     "language": "python",
     "metadata": {},
     "outputs": [
      {
       "output_type": "stream",
       "stream": "stdout",
       "text": [
        "0.752620292992\n"
       ]
      }
     ],
     "prompt_number": 7
    },
    {
     "cell_type": "code",
     "collapsed": false,
     "input": [
      "# Perform weighted n-fold cross validation\n",
      "accuracies_weighted = []\n",
      "normalization_sum = 0\n",
      "for  k, example in enumerate(dataset):\n",
      "    hmm.supervised_learning(dataset[:k] + dataset[(k + 1):])\n",
      "    accuracies_weighted.append(hmm.test([example]) * len(example[0]))\n",
      "    normalization_sum += len(example[0])\n",
      "print(sum(accuracies_weighted) / normalization_sum)"
     ],
     "language": "python",
     "metadata": {},
     "outputs": [
      {
       "output_type": "stream",
       "stream": "stdout",
       "text": [
        "0.8486066034731585\n"
       ]
      }
     ],
     "prompt_number": 8
    },
    {
     "cell_type": "markdown",
     "metadata": {},
     "source": [
      "## Unsupervied learning"
     ]
    },
    {
     "cell_type": "markdown",
     "metadata": {},
     "source": [
      "### Viterby learning"
     ]
    },
    {
     "cell_type": "code",
     "collapsed": false,
     "input": [
      "# init HMM\n",
      "t, e = HMM.init_matrices_randomly('ei', 'ACTG')\n",
      "hmm = HMM(t, e)"
     ],
     "language": "python",
     "metadata": {},
     "outputs": [],
     "prompt_number": 10
    },
    {
     "cell_type": "code",
     "collapsed": false,
     "input": [
      "print(hmm.test(dataset))\n",
      "print(hmm.test_weighted(dataset))"
     ],
     "language": "python",
     "metadata": {},
     "outputs": [
      {
       "output_type": "stream",
       "stream": "stdout",
       "text": [
        "0.24760703671629655\n",
        "0.18999214033566192"
       ]
      },
      {
       "output_type": "stream",
       "stream": "stdout",
       "text": [
        "\n"
       ]
      }
     ],
     "prompt_number": 11
    },
    {
     "cell_type": "code",
     "collapsed": false,
     "input": [
      "hmm.viterbi_learning_batch(dataset, iterations=4)"
     ],
     "language": "python",
     "metadata": {},
     "outputs": [],
     "prompt_number": 12
    },
    {
     "cell_type": "code",
     "collapsed": false,
     "input": [
      "print(hmm.test(dataset))\n",
      "print(hmm.test_weighted(dataset))"
     ],
     "language": "python",
     "metadata": {},
     "outputs": [
      {
       "output_type": "stream",
       "stream": "stdout",
       "text": [
        "0.24681586975886524\n",
        "0.18957374872111066"
       ]
      },
      {
       "output_type": "stream",
       "stream": "stdout",
       "text": [
        "\n"
       ]
      }
     ],
     "prompt_number": 13
    },
    {
     "cell_type": "markdown",
     "metadata": {},
     "source": [
      "### Baum-Welch learning"
     ]
    },
    {
     "cell_type": "code",
     "collapsed": false,
     "input": [
      "# init HMM\n",
      "t, e = HMM.init_matrices_randomly('ei', 'ACTG')\n",
      "hmm = HMM(t, e)"
     ],
     "language": "python",
     "metadata": {},
     "outputs": [],
     "prompt_number": 14
    },
    {
     "cell_type": "code",
     "collapsed": false,
     "input": [
      "print(hmm.test(dataset))\n",
      "print(hmm.test_weighted(dataset))"
     ],
     "language": "python",
     "metadata": {},
     "outputs": [
      {
       "output_type": "stream",
       "stream": "stdout",
       "text": [
        "0.6958343138956967\n",
        "0.7350598621848512"
       ]
      },
      {
       "output_type": "stream",
       "stream": "stdout",
       "text": [
        "\n"
       ]
      }
     ],
     "prompt_number": 15
    },
    {
     "cell_type": "code",
     "collapsed": false,
     "input": [
      "hmm.baum_welch_learning_batch(dataset, iterations=4)"
     ],
     "language": "python",
     "metadata": {},
     "outputs": [],
     "prompt_number": 16
    },
    {
     "cell_type": "code",
     "collapsed": false,
     "input": [
      "print(hmm.test(dataset))\n",
      "print(hmm.test_weighted(dataset))"
     ],
     "language": "python",
     "metadata": {},
     "outputs": [
      {
       "output_type": "stream",
       "stream": "stdout",
       "text": [
        "0.48801682492144827\n",
        "0.4828544132692816"
       ]
      },
      {
       "output_type": "stream",
       "stream": "stdout",
       "text": [
        "\n"
       ]
      }
     ],
     "prompt_number": 17
    },
    {
     "cell_type": "markdown",
     "metadata": {},
     "source": [
      "# Other"
     ]
    },
    {
     "cell_type": "code",
     "collapsed": false,
     "input": [
      "def path_stats(paths):\n",
      "    print('Num. of paths:', len(paths))\n",
      "    c = collections.Counter(''.join(paths))\n",
      "    print('Exons:', c['e'], c['e'] / (c['e'] + c['i']), '[%]')\n",
      "    print('Introns:', c['i'], c['i'] / (c['e'] + c['i']), '[%]')\n",
      "    \n",
      "    segments = 0\n",
      "    for p in paths:\n",
      "        segments += 1\n",
      "        for c1, c2 in zip(p[:-1], p[1:]):\n",
      "            if c1 != c2:\n",
      "                segments += 1\n",
      "    print('Avg. segments:', segments / len(paths))"
     ],
     "language": "python",
     "metadata": {},
     "outputs": [],
     "prompt_number": 6
    },
    {
     "cell_type": "markdown",
     "metadata": {},
     "source": [
      "# Knowledge mining"
     ]
    },
    {
     "cell_type": "code",
     "collapsed": false,
     "input": [
      "t, e = HMM.init_matrices_randomly('ei', 'ACTG')\n",
      "hmm = HMM(t, e)\n",
      "hmm.supervised_learning(dataset)"
     ],
     "language": "python",
     "metadata": {},
     "outputs": [],
     "prompt_number": 8
    },
    {
     "cell_type": "code",
     "collapsed": false,
     "input": [
      "hmm.init_state_dist"
     ],
     "language": "python",
     "metadata": {},
     "outputs": [
      {
       "metadata": {},
       "output_type": "pyout",
       "prompt_number": 9,
       "text": [
        "{'i': 0.0, 'e': 1.0}"
       ]
      }
     ],
     "prompt_number": 9
    },
    {
     "cell_type": "code",
     "collapsed": false,
     "input": [
      "hmm.transition_matrix"
     ],
     "language": "python",
     "metadata": {},
     "outputs": [
      {
       "metadata": {},
       "output_type": "pyout",
       "prompt_number": 10,
       "text": [
        "{'i': {'i': 0.9968011723078023, 'e': 0.0031988276921977197},\n",
        " 'e': {'i': 0.0007487800949988601, 'e': 0.9992512199050011}}"
       ]
      }
     ],
     "prompt_number": 10
    },
    {
     "cell_type": "code",
     "collapsed": false,
     "input": [
      "hmm.emission_matrix"
     ],
     "language": "python",
     "metadata": {},
     "outputs": [
      {
       "metadata": {},
       "output_type": "pyout",
       "prompt_number": 11,
       "text": [
        "{'i': {'T': 0.3393974051967547,\n",
        "  'G': 0.16045069516423033,\n",
        "  'A': 0.3593230637263662,\n",
        "  'C': 0.14082883591264878},\n",
        " 'e': {'T': 0.2876598946576373,\n",
        "  'G': 0.18346710141292535,\n",
        "  'A': 0.3302692082601789,\n",
        "  'C': 0.19860379566925843}}"
       ]
      }
     ],
     "prompt_number": 11
    }
   ],
   "metadata": {}
  }
 ]
}