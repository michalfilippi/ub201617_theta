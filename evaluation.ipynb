{
 "cells": [
  {
   "cell_type": "code",
   "execution_count": 1,
   "metadata": {
    "collapsed": false
   },
   "outputs": [],
   "source": [
    "import random\n",
    "import collections\n",
    "import numpy as np\n",
    "import matplotlib.pyplot as plt\n",
    "%matplotlib inline  \n",
    "\n",
    "from data.dataset_1 import read_data\n",
    "from lib.markov_models import HMM"
   ]
  },
  {
   "cell_type": "markdown",
   "metadata": {},
   "source": [
    "# Data reading"
   ]
  },
  {
   "cell_type": "code",
   "execution_count": 2,
   "metadata": {
    "collapsed": false
   },
   "outputs": [
    {
     "name": "stdout",
     "output_type": "stream",
     "text": [
      "Samples: 329\n"
     ]
    }
   ],
   "source": [
    "dataset = read_data()\n",
    "random.shuffle(dataset)\n",
    "print(\"Samples:\", len(dataset))"
   ]
  },
  {
   "cell_type": "markdown",
   "metadata": {},
   "source": [
    "# Evaluation"
   ]
  },
  {
   "cell_type": "markdown",
   "metadata": {},
   "source": [
    "## Majority classifier"
   ]
  },
  {
   "cell_type": "code",
   "execution_count": 3,
   "metadata": {
    "collapsed": false
   },
   "outputs": [
    {
     "name": "stdout",
     "output_type": "stream",
     "text": [
      "Unweighted accuracy: 75.3184130241 [%]\n",
      "Weighted accuracy: 81.04262512788894 [%]\n"
     ]
    }
   ],
   "source": [
    "# Perform majority classifier (always predict exon)\n",
    "accuracies = []\n",
    "accuracies_weighted = []\n",
    "normalization_sum = 0\n",
    "for _, path in dataset:\n",
    "    c_pred = path.count('e')\n",
    "    accuracies.append(c_pred / len(path))\n",
    "    accuracies_weighted.append(c_pred)\n",
    "    normalization_sum += len(path)\n",
    "    \n",
    "print(\"Unweighted accuracy:\", np.mean(accuracies) * 100, '[%]')\n",
    "print(\"Weighted accuracy:\", sum(accuracies_weighted) / normalization_sum * 100, '[%]')"
   ]
  },
  {
   "cell_type": "markdown",
   "metadata": {},
   "source": [
    "## Supervised learning"
   ]
  },
  {
   "cell_type": "code",
   "execution_count": 4,
   "metadata": {
    "collapsed": false
   },
   "outputs": [],
   "source": [
    "# init HMM\n",
    "t, e = HMM.init_matrices_randomly('ei', 'ACTG')\n",
    "hmm = HMM(t, e)"
   ]
  },
  {
   "cell_type": "code",
   "execution_count": 5,
   "metadata": {
    "collapsed": false
   },
   "outputs": [],
   "source": [
    "# Perform n-fold cross validation\n",
    "# Calculate weighted and unweighted accuracy\n",
    "accuracies = []\n",
    "accuracies_weighted = []\n",
    "normalization_sum = 0\n",
    "pred_pairs = []\n",
    "for  k, example in enumerate(dataset):\n",
    "    hmm.supervised_learning(dataset[:k] + dataset[(k + 1):])\n",
    "    acc, pred = hmm.test([example], True)\n",
    "    \n",
    "    pred_pairs += list(zip(pred[0][0], pred[0][1]))\n",
    "    accuracies.append(acc)\n",
    "    accuracies_weighted.append(acc * len(example[0]))\n",
    "    normalization_sum += len(example[0])"
   ]
  },
  {
   "cell_type": "code",
   "execution_count": 6,
   "metadata": {
    "collapsed": false
   },
   "outputs": [
    {
     "name": "stdout",
     "output_type": "stream",
     "text": [
      "Unweighted accuracy: 75.2620292992 [%]\n",
      "Weighted accuracy: 84.86066034731586 [%]\n"
     ]
    }
   ],
   "source": [
    "print(\"Unweighted accuracy:\", np.mean(accuracies) * 100, '[%]')\n",
    "print(\"Weighted accuracy:\", sum(accuracies_weighted) / normalization_sum * 100, '[%]')"
   ]
  },
  {
   "cell_type": "markdown",
   "metadata": {},
   "source": [
    "### Plot of gene length and accuracy dependency"
   ]
  },
  {
   "cell_type": "code",
   "execution_count": 7,
   "metadata": {
    "collapsed": false
   },
   "outputs": [
    {
     "data": {
      "image/png": "[encoded data removed]",
      "text/plain": [
       "<matplotlib.figure.Figure at 0x6b20160>"
      ]
     },
     "metadata": {},
     "output_type": "display_data"
    }
   ],
   "source": [
    "plt.figure(figsize=(10, 4))\n",
    "plt.title('')\n",
    "plt.xlabel('Length of gene')\n",
    "plt.ylabel('Accuracy')\n",
    "plt.plot([len(s[0]) for s in dataset], accuracies, '.');"
   ]
  },
  {
   "cell_type": "markdown",
   "metadata": {},
   "source": [
    "### Confusion matrix"
   ]
  },
  {
   "cell_type": "code",
   "execution_count": 8,
   "metadata": {
    "collapsed": false
   },
   "outputs": [
    {
     "name": "stdout",
     "output_type": "stream",
     "text": [
      "\te\ti\n",
      "e\t94.98%\t5.02%\n",
      "i\t58.4%\t41.6%\n"
     ]
    }
   ],
   "source": [
    "c = collections.Counter(pred_pairs)\n",
    "print('\\te\\ti')\n",
    "probs = [c[('e','e')] / (c[('e','e')] + c[('e','i')]),\n",
    "         c[('e','i')] / (c[('e','e')] + c[('e','i')]),\n",
    "         c[('i','e')] / (c[('i','e')] + c[('i','i')]),\n",
    "         c[('i','i')] / (c[('i','e')] + c[('i','i')])]\n",
    "probs = list(map(lambda x: str(round(x*100, 2)) + '%', probs))\n",
    "print('e', probs[0], probs[1], sep='\\t')\n",
    "print('i', probs[2], probs[3], sep='\\t')"
   ]
  },
  {
   "cell_type": "markdown",
   "metadata": {},
   "source": [
    "## Unsupervised learning"
   ]
  },
  {
   "cell_type": "markdown",
   "metadata": {},
   "source": [
    "### Viterbi learning"
   ]
  },
  {
   "cell_type": "code",
   "execution_count": 13,
   "metadata": {
    "collapsed": false
   },
   "outputs": [],
   "source": [
    "# init HMM\n",
    "t, e = HMM.init_matrices_randomly('ei', 'ACTG')\n",
    "hmm = HMM(t, e)"
   ]
  },
  {
   "cell_type": "code",
   "execution_count": 14,
   "metadata": {
    "collapsed": false
   },
   "outputs": [
    {
     "name": "stdout",
     "output_type": "stream",
     "text": [
      "Unweighted accuracy: 47.75093724791107 [%]\n",
      "Weighted accuracy: 47.2774054976997 [%]\n",
      "\n",
      "-------- init state dist\n",
      "e\t0.5\n",
      "i\t0.5\n",
      "-------- transmission dist\n",
      "\te\ti\t\n",
      "e\t0.19\t0.81\t\n",
      "i\t0.636\t0.364\t\n",
      "-------- emission dist\n",
      "\tA\tC\tG\tT\n",
      "e\t0.069\t0.395\t0.437\t0.099\t\n",
      "i\t0.256\t0.33\t0.092\t0.321\t\n",
      "\n"
     ]
    }
   ],
   "source": [
    "print(\"Unweighted accuracy:\", hmm.test(dataset) * 100, '[%]')\n",
    "print(\"Weighted accuracy:\", hmm.test_weighted(dataset) * 100, '[%]')\n",
    "print()\n",
    "print(hmm)"
   ]
  },
  {
   "cell_type": "code",
   "execution_count": 19,
   "metadata": {
    "collapsed": false
   },
   "outputs": [],
   "source": [
    "hmm.viterbi_learning_batch(dataset, iterations=50)"
   ]
  },
  {
   "cell_type": "code",
   "execution_count": 20,
   "metadata": {
    "collapsed": false
   },
   "outputs": [
    {
     "name": "stdout",
     "output_type": "stream",
     "text": [
      "Unweighted accuracy: 75.31841302411345 [%]\n",
      "Weighted accuracy: 81.04262512788894 [%]\n",
      "\n",
      "-------- init state dist\n",
      "e\t1.0\n",
      "i\t0.0\n",
      "-------- transmission dist\n",
      "\te\ti\t\n",
      "e\t1.0\t0.0\t\n",
      "i\t0.5\t0.5\t\n",
      "-------- emission dist\n",
      "\tA\tC\tG\tT\n",
      "e\t0.414\t0.163\t0.177\t0.246\t\n",
      "i\t0.25\t0.25\t0.25\t0.25\t\n",
      "\n"
     ]
    }
   ],
   "source": [
    "print(\"Unweighted accuracy:\", hmm.test(dataset) * 100, '[%]')\n",
    "print(\"Weighted accuracy:\", hmm.test_weighted(dataset) * 100, '[%]')\n",
    "print()\n",
    "print(hmm)"
   ]
  },
  {
   "cell_type": "markdown",
   "metadata": {},
   "source": [
    "# Knowledge mining"
   ]
  },
  {
   "cell_type": "code",
   "execution_count": 17,
   "metadata": {
    "collapsed": false
   },
   "outputs": [],
   "source": [
    "t, e = HMM.init_matrices_randomly('ei', 'ACTG')\n",
    "hmm = HMM(t, e)\n",
    "hmm.supervised_learning(dataset)"
   ]
  },
  {
   "cell_type": "code",
   "execution_count": 18,
   "metadata": {
    "collapsed": false
   },
   "outputs": [
    {
     "name": "stdout",
     "output_type": "stream",
     "text": [
      "-------- init state dist\n",
      "e\t1.0\n",
      "i\t0.0\n",
      "-------- transmission dist\n",
      "\te\ti\t\n",
      "e\t0.999\t0.001\t\n",
      "i\t0.003\t0.997\t\n",
      "-------- emission dist\n",
      "\tA\tC\tG\tT\n",
      "e\t0.33\t0.199\t0.183\t0.288\t\n",
      "i\t0.359\t0.141\t0.16\t0.339\t\n",
      "\n"
     ]
    }
   ],
   "source": [
    "print(hmm)"
   ]
  }
 ],
 "metadata": {
  "anaconda-cloud": {},
  "kernelspec": {
   "display_name": "Python [default]",
   "language": "python",
   "name": "python3"
  },
  "language_info": {
   "codemirror_mode": {
    "name": "ipython",
    "version": 3
   },
   "file_extension": ".py",
   "mimetype": "text/x-python",
   "name": "python",
   "nbconvert_exporter": "python",
   "pygments_lexer": "ipython3",
   "version": "3.5.2"
  }
 },
 "nbformat": 4,
 "nbformat_minor": 0
}
